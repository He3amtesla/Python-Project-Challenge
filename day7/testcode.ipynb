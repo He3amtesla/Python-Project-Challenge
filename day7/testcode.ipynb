{
 "cells": [
  {
   "cell_type": "code",
   "execution_count": 37,
   "metadata": {},
   "outputs": [],
   "source": [
    "import random\n",
    "randnum = random.randint(0, 100)"
   ]
  },
  {
   "cell_type": "code",
   "execution_count": 38,
   "metadata": {},
   "outputs": [
    {
     "data": {
      "text/plain": [
       "95"
      ]
     },
     "execution_count": 38,
     "metadata": {},
     "output_type": "execute_result"
    }
   ],
   "source": [
    "randnum"
   ]
  },
  {
   "cell_type": "markdown",
   "metadata": {},
   "source": [
    "- آیا عدد است یا خیر\n",
    "- x > 100 or x < 0\n",
    "- q\n"
   ]
  },
  {
   "cell_type": "code",
   "execution_count": 39,
   "metadata": {},
   "outputs": [],
   "source": [
    "def validate_input(input_user):\n",
    "    if not input_user.isdigit():\n",
    "        print(\"add vared konid: \")\n",
    "        return False\n",
    "\n",
    "    input_user = int(input_user)\n",
    "    if input_user > 100 or input_user < 0:\n",
    "        print(\"Enter a number between 0 and 100 \")\n",
    "        return False\n",
    "    \n",
    "    return True"
   ]
  },
  {
   "cell_type": "code",
   "execution_count": 40,
   "metadata": {},
   "outputs": [
    {
     "name": "stdout",
     "output_type": "stream",
     "text": [
      "The number you considered is less than this number\n",
      "add vared konid: \n",
      "don't you love me, bye T_T\n"
     ]
    }
   ],
   "source": [
    "score = 10\n",
    "while True:\n",
    "    input_user = input(\"Guess from 1 to 100 numbers: \")\n",
    "    if input_user == 'q':\n",
    "        print(\"don't you love me, bye T_T\")\n",
    "        break\n",
    "    \n",
    "    if not validate_input(input_user):\n",
    "        continue\n",
    "    \n",
    "    input_user = int(input_user)\n",
    "    \n",
    "    if randnum < input_user:\n",
    "        print(\"The number you considered is higher than that number\")\n",
    "        score -=1\n",
    "        continue\n",
    "    elif randnum > input_user:\n",
    "        print(\"The number you considered is less than this number\")\n",
    "        score -=1\n",
    "        continue\n",
    "    \n",
    "    score = max(score, 0)\n",
    "\n",
    "    print (\"Well done, you guessed right, Your score: \", score)\n",
    "    break"
   ]
  },
  {
   "cell_type": "code",
   "execution_count": null,
   "metadata": {},
   "outputs": [],
   "source": []
  }
 ],
 "metadata": {
  "kernelspec": {
   "display_name": "py310",
   "language": "python",
   "name": "python3"
  },
  "language_info": {
   "codemirror_mode": {
    "name": "ipython",
    "version": 3
   },
   "file_extension": ".py",
   "mimetype": "text/x-python",
   "name": "python",
   "nbconvert_exporter": "python",
   "pygments_lexer": "ipython3",
   "version": "3.10.15"
  }
 },
 "nbformat": 4,
 "nbformat_minor": 2
}
